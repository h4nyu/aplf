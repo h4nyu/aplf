{
 "cells": [
  {
   "cell_type": "code",
   "execution_count": 658,
   "metadata": {
    "scrolled": false
   },
   "outputs": [
    {
     "name": "stdout",
     "output_type": "stream",
     "text": [
      "count    13731.000000\n",
      "mean         2.024839\n",
      "std          0.923629\n",
      "min         -1.000000\n",
      "25%          1.378398\n",
      "50%          2.034227\n",
      "75%          2.659013\n",
      "max          4.673205\n",
      "Name: Score, dtype: float64\n"
     ]
    },
    {
     "data": {
      "text/plain": [
       "<matplotlib.axes._subplots.AxesSubplot at 0x7fe9d3bb7128>"
      ]
     },
     "execution_count": 658,
     "metadata": {},
     "output_type": "execute_result"
    },
    {
     "data": {
      "image/png": "[encoded data removed]",
      "text/plain": [
       "<Figure size 432x288 with 1 Axes>"
      ]
     },
     "metadata": {
      "needs_background": "light"
     },
     "output_type": "display_data"
    }
   ],
   "source": [
    "import pandas as pd\n",
    "df = pd.read_pickle(\"/store/aug/train.pkl\")\n",
    "print(df['Score'].describe())\n",
    "df['Score'].hist(bins=300)"
   ]
  },
  {
   "cell_type": "code",
   "execution_count": 659,
   "metadata": {},
   "outputs": [
    {
     "name": "stdout",
     "output_type": "stream",
     "text": [
      "                 id         Score\n",
      "count  13731.000000  13731.000000\n",
      "mean   13715.888428      2.000686\n",
      "std     7891.540358      0.874888\n",
      "min        5.000000     -1.075327\n",
      "25%     6908.500000      1.407212\n",
      "50%    13686.000000      2.010128\n",
      "75%    20528.000000      2.589634\n",
      "max    27463.000000     12.835962\n"
     ]
    },
    {
     "data": {
      "text/plain": [
       "<matplotlib.axes._subplots.AxesSubplot at 0x7fe9d3bb6940>"
      ]
     },
     "execution_count": 659,
     "metadata": {},
     "output_type": "execute_result"
    },
    {
     "data": {
      "image/png": "[encoded data removed]",
      "text/plain": [
       "<Figure size 432x288 with 1 Axes>"
      ]
     },
     "metadata": {
      "needs_background": "light"
     },
     "output_type": "display_data"
    }
   ],
   "source": [
    "df = pd.read_csv(\"http://192.168.10.7/nn/pre_submit.csv\", names=['id', 'Score'])\n",
    "print(df.describe())\n",
    "df['Score'].hist(bins=300)"
   ]
  },
  {
   "cell_type": "code",
   "execution_count": null,
   "metadata": {},
   "outputs": [],
   "source": []
  }
 ],
 "metadata": {
  "kernelspec": {
   "display_name": "Python 3",
   "language": "python",
   "name": "python3"
  },
  "language_info": {
   "codemirror_mode": {
    "name": "ipython",
    "version": 3
   },
   "file_extension": ".py",
   "mimetype": "text/x-python",
   "name": "python",
   "nbconvert_exporter": "python",
   "pygments_lexer": "ipython3",
   "version": "3.6.8"
  }
 },
 "nbformat": 4,
 "nbformat_minor": 2
}
